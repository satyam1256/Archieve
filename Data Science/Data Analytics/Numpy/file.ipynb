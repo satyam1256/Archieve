{
 "cells": [
  {
   "cell_type": "code",
   "execution_count": 4,
   "metadata": {},
   "outputs": [
    {
     "name": "stdout",
     "output_type": "stream",
     "text": [
      "[[0. 0. 0.]\n",
      " [0. 0. 0.]\n",
      " [0. 0. 0.]]\n"
     ]
    }
   ],
   "source": [
    "import numpy as np\n",
    "\n",
    "a = np.zeros((3,3))\n",
    "print(a)"
   ]
  },
  {
   "cell_type": "code",
   "execution_count": 5,
   "metadata": {},
   "outputs": [
    {
     "name": "stdout",
     "output_type": "stream",
     "text": [
      "[1, 2, 3]\n"
     ]
    }
   ],
   "source": [
    "lst = [1,2,3] # This is 1D list\n",
    "print(lst)"
   ]
  },
  {
   "cell_type": "code",
   "execution_count": 6,
   "metadata": {},
   "outputs": [
    {
     "name": "stdout",
     "output_type": "stream",
     "text": [
      "[[1, 2, 3], [4, 5, 6], [7, 8, 9]]\n"
     ]
    }
   ],
   "source": [
    "lst2 = [[1,2,3],[4,5,6],[7,8,9]] # This is 2D list\n",
    "print(lst2)"
   ]
  },
  {
   "cell_type": "code",
   "execution_count": 7,
   "metadata": {},
   "outputs": [
    {
     "data": {
      "text/plain": [
       "list"
      ]
     },
     "execution_count": 7,
     "metadata": {},
     "output_type": "execute_result"
    }
   ],
   "source": [
    "type(lst2)"
   ]
  },
  {
   "cell_type": "code",
   "execution_count": 10,
   "metadata": {},
   "outputs": [
    {
     "name": "stdout",
     "output_type": "stream",
     "text": [
      "[[1 2 3]\n",
      " [4 5 6]\n",
      " [7 8 9]]\n",
      "<class 'numpy.ndarray'>\n",
      "(3, 3)\n",
      "int32\n",
      "2\n"
     ]
    }
   ],
   "source": [
    "arr = np.array(lst2) # This is 2D array\n",
    "print(arr)\n",
    "print(type(arr))\n",
    "print(arr.shape)\n",
    "print(arr.dtype)\n",
    "print(arr.ndim)"
   ]
  },
  {
   "cell_type": "markdown",
   "metadata": {},
   "source": [
    "# RANDOM LIBRARY"
   ]
  },
  {
   "cell_type": "code",
   "execution_count": 47,
   "metadata": {},
   "outputs": [
    {
     "name": "stdout",
     "output_type": "stream",
     "text": [
      "[[[0.99384809 0.31625913 0.78730351]\n",
      "  [0.90731084 0.10858748 0.39260359]\n",
      "  [0.43345258 0.73287807 0.39380109]]\n",
      "\n",
      " [[0.12574535 0.0322612  0.2129504 ]\n",
      "  [0.18589159 0.57081552 0.97790383]\n",
      "  [0.99701248 0.53334254 0.98300601]]\n",
      "\n",
      " [[0.74914102 0.47133173 0.87054072]\n",
      "  [0.80390778 0.83144919 0.35511759]\n",
      "  [0.82646411 0.90078991 0.59370859]]]\n"
     ]
    }
   ],
   "source": [
    "arr1 = np.random.random((3,3,3)) # This will create 3x3 array with random values\n",
    "print(arr1)"
   ]
  },
  {
   "cell_type": "code",
   "execution_count": 15,
   "metadata": {},
   "outputs": [
    {
     "name": "stdout",
     "output_type": "stream",
     "text": [
      "[[10  5  2]\n",
      " [ 8  0  9]\n",
      " [ 6  1  3]]\n"
     ]
    }
   ],
   "source": [
    "arr2 = np.random.randint(0,11,(3,3)) #This will generate random integer between 0 to 10\n",
    "print(arr2)"
   ]
  },
  {
   "cell_type": "code",
   "execution_count": 17,
   "metadata": {},
   "outputs": [
    {
     "name": "stdout",
     "output_type": "stream",
     "text": [
      "[[-1.69208684 -0.11745763  0.46373905]\n",
      " [-0.78557212 -2.86821397  1.88645944]\n",
      " [-0.13450397  1.30607333 -1.51726138]]\n"
     ]
    }
   ],
   "source": [
    "arr3 = np.random.randn(3,3) # This is standard normal distribution\n",
    "print(arr3)"
   ]
  },
  {
   "cell_type": "code",
   "execution_count": 18,
   "metadata": {},
   "outputs": [
    {
     "name": "stdout",
     "output_type": "stream",
     "text": [
      "[[ 0.14933855  0.06987771  1.21909535]\n",
      " [-1.32646081 -0.61928909 -2.29696443]\n",
      " [-0.36795987 -0.17015872  0.25721452]]\n"
     ]
    }
   ],
   "source": [
    "arr4 = np.random.normal(0,1,(3,3)) # This is normal distribution\n",
    "print(arr4)"
   ]
  },
  {
   "cell_type": "code",
   "execution_count": 19,
   "metadata": {},
   "outputs": [
    {
     "name": "stdout",
     "output_type": "stream",
     "text": [
      "[[0.78191385 0.9953903  0.12185675]\n",
      " [0.6478543  0.77683399 0.90602389]\n",
      " [0.52551454 0.24382471 0.44810681]]\n"
     ]
    }
   ],
   "source": [
    "arr5 = np.random.uniform(0,1,(3,3)) # This is uniform distribution\n",
    "print(arr5)"
   ]
  },
  {
   "cell_type": "code",
   "execution_count": 20,
   "metadata": {},
   "outputs": [
    {
     "name": "stdout",
     "output_type": "stream",
     "text": [
      "[[7 1 1]\n",
      " [5 5 7]\n",
      " [4 7 4]]\n"
     ]
    }
   ],
   "source": [
    "arr6 = np.random.choice([1,2,3,4,5,6,7,8,9],(3,3)) # This will generate random number from the list\n",
    "print(arr6)"
   ]
  },
  {
   "cell_type": "code",
   "execution_count": 21,
   "metadata": {},
   "outputs": [
    {
     "name": "stdout",
     "output_type": "stream",
     "text": [
      "[9 8 7 2 1 4 5 6 3]\n"
     ]
    }
   ],
   "source": [
    "arr7 = np.random.permutation([1,2,3,4,5,6,7,8,9]) # This will generate random permutation from the list\n",
    "print(arr7)"
   ]
  },
  {
   "cell_type": "markdown",
   "metadata": {},
   "source": [
    "# SEQUENCE"
   ]
  },
  {
   "cell_type": "code",
   "execution_count": 29,
   "metadata": {},
   "outputs": [
    {
     "name": "stdout",
     "output_type": "stream",
     "text": [
      "[ 0  1  2  3  4  5  6  7  8  9 10 11 12]\n"
     ]
    }
   ],
   "source": [
    "arr8 = np.arange(0,12) # This will generate array sequence from 0 to 10\n",
    "print(arr8)"
   ]
  },
  {
   "cell_type": "code",
   "execution_count": 26,
   "metadata": {},
   "outputs": [
    {
     "name": "stdout",
     "output_type": "stream",
     "text": [
      "[ 0.    1.25  2.5   3.75  5.    6.25  7.5   8.75 10.  ]\n"
     ]
    }
   ],
   "source": [
    "arr9 = np.linspace(0,10,9) # This will generate array sequence from 0 to 10 with 5 elements and equidistant\n",
    "print(arr9)"
   ]
  },
  {
   "cell_type": "code",
   "execution_count": 28,
   "metadata": {},
   "outputs": [
    {
     "name": "stdout",
     "output_type": "stream",
     "text": [
      "[[1. 0. 0.]\n",
      " [0. 1. 0.]\n",
      " [0. 0. 1.]]\n"
     ]
    }
   ],
   "source": [
    "arr10 = np.eye(3) # This will generate identity matrix\n",
    "print(arr10)"
   ]
  },
  {
   "cell_type": "code",
   "execution_count": 41,
   "metadata": {},
   "outputs": [
    {
     "name": "stdout",
     "output_type": "stream",
     "text": [
      "[[0.69903083 0.95120737 0.23052874 0.44402576 0.42461883 0.4205114 ]\n",
      " [0.83361632 0.87855791 0.25379399 0.46197253 0.50877828 0.21548489]]\n"
     ]
    }
   ],
   "source": [
    "arr11 = np.random.random((3,4)) # This will generate 3x4 array with random values\n",
    "arr11 = np.reshape(arr11 , (2,6)) # This will reshape the array\n",
    "print(arr11)"
   ]
  },
  {
   "cell_type": "code",
   "execution_count": 44,
   "metadata": {},
   "outputs": [
    {
     "name": "stdout",
     "output_type": "stream",
     "text": [
      "[0.69903083 0.95120737 0.23052874 0.44402576 0.42461883 0.4205114\n",
      " 0.83361632 0.87855791 0.25379399 0.46197253 0.50877828 0.21548489]\n",
      "--------------------\n",
      "[0.69903083 0.95120737 0.23052874 0.44402576 0.42461883 0.4205114\n",
      " 0.83361632 0.87855791 0.25379399 0.46197253 0.50877828 0.21548489]\n"
     ]
    }
   ],
   "source": [
    "print(arr11) #this is a 2D array\n",
    "arr11 = arr11.flatten() # This will flatten the array\n",
    "print('-'*20)\n",
    "print(arr11) # This is a 1D array"
   ]
  },
  {
   "cell_type": "code",
   "execution_count": 46,
   "metadata": {},
   "outputs": [
    {
     "name": "stdout",
     "output_type": "stream",
     "text": [
      "[[ 0  1  2  3]\n",
      " [ 4  5  6  7]\n",
      " [ 8  9 10 11]\n",
      " [12 13 14 15]\n",
      " [16 17 18 19]]\n"
     ]
    }
   ],
   "source": [
    "arr12 = np.arange(20).reshape(5,4) # This will generate 5x4 array\n",
    "print(arr12)"
   ]
  },
  {
   "cell_type": "markdown",
   "metadata": {},
   "source": [
    "# Arithematics Operations"
   ]
  },
  {
   "cell_type": "code",
   "execution_count": 50,
   "metadata": {},
   "outputs": [
    {
     "name": "stdout",
     "output_type": "stream",
     "text": [
      "[ 1  2  3  4  5  6  7  8  9 10]\n",
      "[ 2  3  4  5  6  7  8  9 10 11]\n",
      "[0 1 2 3 4 5 6 7 8 9]\n",
      "[ 4  6  8 10 12 14 16 18 20 22]\n"
     ]
    }
   ],
   "source": [
    "ar = np.array([1,2,3,4,5,6,7,8,9,10]) # 1D array\n",
    "print(ar)\n",
    "\n",
    "ar = ar+1\n",
    "ar1 = ar-2\n",
    "ar2 = ar*2\n",
    "\n",
    "print(ar)\n",
    "print(ar1)\n",
    "print(ar2)\n"
   ]
  },
  {
   "cell_type": "code",
   "execution_count": 60,
   "metadata": {},
   "outputs": [
    {
     "name": "stdout",
     "output_type": "stream",
     "text": [
      "[[1 2 3]\n",
      " [4 5 6]\n",
      " [7 8 9]]\n",
      "--------------------\n",
      "45\n",
      "[12 15 18]\n",
      "[ 6 15 24]\n",
      "--------------------\n",
      "[3 6 9]\n",
      "[7 8 9]\n",
      "--------------------\n",
      "[1 4 7]\n",
      "[1 2 3]\n"
     ]
    }
   ],
   "source": [
    "print(arr) # This is 2D array\n",
    "print('-'*20)\n",
    "print(arr.sum())\n",
    "print(arr.sum(axis=0)) # This will sum the column\n",
    "print(arr.sum(axis=1)) # This will sum the row\n",
    "print('-'*20)\n",
    "print(arr.max(axis=1))\n",
    "print(arr.max(axis=0))\n",
    "print('-'*20)\n",
    "print(arr.min(axis=1))\n",
    "print(arr.min(axis=0))"
   ]
  },
  {
   "cell_type": "code",
   "execution_count": 79,
   "metadata": {},
   "outputs": [
    {
     "data": {
      "text/plain": [
       "array([[ 4,  5,  6],\n",
       "       [ 7,  8,  9],\n",
       "       [10, 11, 12]])"
      ]
     },
     "execution_count": 79,
     "metadata": {},
     "output_type": "execute_result"
    }
   ],
   "source": [
    "Z = np.arange(4, 13).reshape(3,3)\n",
    "Z"
   ]
  },
  {
   "cell_type": "code",
   "execution_count": 80,
   "metadata": {},
   "outputs": [
    {
     "data": {
      "text/plain": [
       "array([[ 5,  7,  9],\n",
       "       [11, 13, 15],\n",
       "       [17, 19, 21]])"
      ]
     },
     "execution_count": 80,
     "metadata": {},
     "output_type": "execute_result"
    }
   ],
   "source": [
    "print(arr + Z) # Addition of two array"
   ]
  },
  {
   "cell_type": "code",
   "execution_count": 81,
   "metadata": {},
   "outputs": [
    {
     "name": "stdout",
     "output_type": "stream",
     "text": [
      "[[ 1  2  3  4]\n",
      " [ 5  6  7  8]\n",
      " [ 9 10 11 12]]\n"
     ]
    }
   ],
   "source": [
    "X = np.arange(1,13).reshape(3,4)\n",
    "print(X)"
   ]
  },
  {
   "cell_type": "code",
   "execution_count": 83,
   "metadata": {},
   "outputs": [],
   "source": [
    "print(X+Z) # This will give error because of shape mismatch"
   ]
  },
  {
   "cell_type": "code",
   "execution_count": 84,
   "metadata": {},
   "outputs": [
    {
     "data": {
      "text/plain": [
       "array([[ 48,  54,  60],\n",
       "       [111, 126, 141],\n",
       "       [174, 198, 222]])"
      ]
     },
     "execution_count": 84,
     "metadata": {},
     "output_type": "execute_result"
    }
   ],
   "source": [
    "arr.dot(Z)"
   ]
  },
  {
   "cell_type": "code",
   "execution_count": 89,
   "metadata": {},
   "outputs": [
    {
     "name": "stdout",
     "output_type": "stream",
     "text": [
      "[[1 2 3]\n",
      " [4 5 6]\n",
      " [7 8 9]]\n",
      "--------------------\n",
      "[[1 4 7]\n",
      " [2 5 8]\n",
      " [3 6 9]]\n"
     ]
    }
   ],
   "source": [
    "trans = arr.T # This will transpose the array matrix\n",
    "print(arr)\n",
    "print('-'*20)\n",
    "print(trans)"
   ]
  },
  {
   "cell_type": "markdown",
   "metadata": {},
   "source": [
    "# Indexing"
   ]
  },
  {
   "cell_type": "code",
   "execution_count": 92,
   "metadata": {},
   "outputs": [
    {
     "name": "stdout",
     "output_type": "stream",
     "text": [
      "[1, 2, 3, 4, 5, 6, 7, 8, 9, 10]\n"
     ]
    }
   ],
   "source": [
    "lst = [1,2,3,4,5,6,7,8,9,10]\n",
    "print(lst)"
   ]
  },
  {
   "cell_type": "code",
   "execution_count": 93,
   "metadata": {},
   "outputs": [
    {
     "data": {
      "text/plain": [
       "[10, 9, 8, 7, 6, 5, 4, 3, 2, 1]"
      ]
     },
     "execution_count": 93,
     "metadata": {},
     "output_type": "execute_result"
    }
   ],
   "source": [
    "lst[::-1] # This will reverse the list"
   ]
  },
  {
   "cell_type": "code",
   "execution_count": 94,
   "metadata": {},
   "outputs": [
    {
     "data": {
      "text/plain": [
       "[1, 3, 5, 7, 9]"
      ]
     },
     "execution_count": 94,
     "metadata": {},
     "output_type": "execute_result"
    }
   ],
   "source": [
    "lst[::2] # This will print alternate element from the list"
   ]
  },
  {
   "cell_type": "code",
   "execution_count": 96,
   "metadata": {},
   "outputs": [
    {
     "data": {
      "text/plain": [
       "[2, 4, 6, 8, 10]"
      ]
     },
     "execution_count": 96,
     "metadata": {},
     "output_type": "execute_result"
    }
   ],
   "source": [
    "lst[1::2] # first part is starting index and second part is ending index ...here means ending and then last part is step size"
   ]
  },
  {
   "cell_type": "code",
   "execution_count": null,
   "metadata": {},
   "outputs": [],
   "source": []
  },
  {
   "cell_type": "markdown",
   "metadata": {},
   "source": [
    "# Sorting\n"
   ]
  },
  {
   "cell_type": "code",
   "execution_count": 111,
   "metadata": {},
   "outputs": [
    {
     "name": "stdout",
     "output_type": "stream",
     "text": [
      "[[  4   7   1   5]\n",
      " [  0   8   9   1]\n",
      " [ 11  78 112  34]\n",
      " [  9  90  76   2]]\n"
     ]
    },
    {
     "data": {
      "text/plain": [
       "array([[  1,   4,   5,   7],\n",
       "       [  0,   1,   8,   9],\n",
       "       [ 11,  34,  78, 112],\n",
       "       [  2,   9,  76,  90]])"
      ]
     },
     "execution_count": 111,
     "metadata": {},
     "output_type": "execute_result"
    }
   ],
   "source": [
    "a = np.array([[4,7,1,5] , [0,8,9,1] , [11,78,112,34] , [9,90,76,2]])\n",
    "print(a)\n",
    "a.T\n",
    "# np.sort(a, axis=0 , kind='quicksort') # This will sort the array column wise\n",
    "np.sort(a, axis=1 , kind='mergesort')   # This will sort the array row wise"
   ]
  },
  {
   "cell_type": "code",
   "execution_count": 120,
   "metadata": {},
   "outputs": [
    {
     "name": "stdout",
     "output_type": "stream",
     "text": [
      "[10  2  2  9  6  1  9  2 10 11]\n",
      "[1, 2, 2, 2, 6, 9, 9, 10, 10, 11]\n",
      "[ 1  2  2  2  6  9  9 10 10 11]\n"
     ]
    }
   ],
   "source": [
    "ar[3]=9\n",
    "ar[5]=1\n",
    "ar[0]=10\n",
    "ar[7]=2\n",
    "print(ar)\n",
    "ar.sort() # makes the original array sorted\n",
    "s = sorted(ar) # This will not change the original array\n",
    "print(s)\n",
    "print(ar)"
   ]
  },
  {
   "cell_type": "markdown",
   "metadata": {},
   "source": [
    "# Merging"
   ]
  },
  {
   "cell_type": "code",
   "execution_count": 127,
   "metadata": {},
   "outputs": [],
   "source": [
    "fd = np.array([[1,2,3] ,[4,5,6]])\n",
    "fd1 = np.array([[7,8,9] ,[10,11,12]])"
   ]
  },
  {
   "cell_type": "code",
   "execution_count": 128,
   "metadata": {},
   "outputs": [
    {
     "data": {
      "text/plain": [
       "array([[ 1,  2,  3,  7,  8,  9],\n",
       "       [ 4,  5,  6, 10, 11, 12]])"
      ]
     },
     "execution_count": 128,
     "metadata": {},
     "output_type": "execute_result"
    }
   ],
   "source": [
    "np.hstack((fd,fd1)) # This will concatenate the array horizontally"
   ]
  },
  {
   "cell_type": "code",
   "execution_count": 129,
   "metadata": {},
   "outputs": [
    {
     "data": {
      "text/plain": [
       "array([[ 1,  2,  3],\n",
       "       [ 4,  5,  6],\n",
       "       [ 7,  8,  9],\n",
       "       [10, 11, 12]])"
      ]
     },
     "execution_count": 129,
     "metadata": {},
     "output_type": "execute_result"
    }
   ],
   "source": [
    "np.vstack((fd,fd1)) # This will concatenate the array vertically"
   ]
  },
  {
   "cell_type": "code",
   "execution_count": 137,
   "metadata": {},
   "outputs": [
    {
     "name": "stdout",
     "output_type": "stream",
     "text": [
      "[[ 1  2  3  4]\n",
      " [ 4  5  6  5]\n",
      " [ 7  8  9  9]\n",
      " [10 11 12 10]]\n"
     ]
    }
   ],
   "source": [
    "ar = np.concatenate((fd,fd1) , axis=0) # This will concatenate the array vertically\n",
    "df = np.array([4,5,9,10]).reshape(4,1)\n",
    "ar = np.hstack((ar,df))\n",
    "# print(df)\n",
    "print(ar)"
   ]
  },
  {
   "cell_type": "code",
   "execution_count": 131,
   "metadata": {},
   "outputs": [
    {
     "data": {
      "text/plain": [
       "array([[ 1,  2,  3,  7,  8,  9],\n",
       "       [ 4,  5,  6, 10, 11, 12]])"
      ]
     },
     "execution_count": 131,
     "metadata": {},
     "output_type": "execute_result"
    }
   ],
   "source": [
    "np.concatenate((fd,fd1) , axis=1) # This will concatenate the array horizontally"
   ]
  },
  {
   "cell_type": "code",
   "execution_count": 138,
   "metadata": {},
   "outputs": [
    {
     "data": {
      "text/plain": [
       "[array([[ 1,  2],\n",
       "        [ 4,  5],\n",
       "        [ 7,  8],\n",
       "        [10, 11]]),\n",
       " array([[ 3,  4],\n",
       "        [ 6,  5],\n",
       "        [ 9,  9],\n",
       "        [12, 10]])]"
      ]
     },
     "execution_count": 138,
     "metadata": {},
     "output_type": "execute_result"
    }
   ],
   "source": [
    "np.hsplit(ar,2) # This will split the array horizontally\n"
   ]
  },
  {
   "cell_type": "code",
   "execution_count": 139,
   "metadata": {},
   "outputs": [
    {
     "data": {
      "text/plain": [
       "[array([[1, 2, 3, 4],\n",
       "        [4, 5, 6, 5]]),\n",
       " array([[ 7,  8,  9,  9],\n",
       "        [10, 11, 12, 10]])]"
      ]
     },
     "execution_count": 139,
     "metadata": {},
     "output_type": "execute_result"
    }
   ],
   "source": [
    "np.vsplit(ar,2) # This will split the array vertically"
   ]
  },
  {
   "cell_type": "markdown",
   "metadata": {},
   "source": [
    "# Arrays Slicing"
   ]
  },
  {
   "cell_type": "code",
   "execution_count": 142,
   "metadata": {},
   "outputs": [
    {
     "name": "stdout",
     "output_type": "stream",
     "text": [
      "[[ 1  2  3  4]\n",
      " [ 4  5  6  5]\n",
      " [ 7  8  9  9]\n",
      " [10 11 12 10]]\n"
     ]
    }
   ],
   "source": [
    "print(ar)"
   ]
  },
  {
   "cell_type": "code",
   "execution_count": 143,
   "metadata": {},
   "outputs": [
    {
     "data": {
      "text/plain": [
       "array([[ 1,  2,  3,  4],\n",
       "       [ 4,  5,  6,  5],\n",
       "       [ 7,  8,  9,  9],\n",
       "       [10, 11, 12, 10]])"
      ]
     },
     "execution_count": 143,
     "metadata": {},
     "output_type": "execute_result"
    }
   ],
   "source": [
    "ar[:,:] # , is used to separate between rows and columns"
   ]
  },
  {
   "cell_type": "code",
   "execution_count": 151,
   "metadata": {},
   "outputs": [
    {
     "data": {
      "text/plain": [
       "array([[ 9,  9],\n",
       "       [12, 10]])"
      ]
     },
     "execution_count": 151,
     "metadata": {},
     "output_type": "execute_result"
    }
   ],
   "source": [
    "ar[2:,-2:]"
   ]
  },
  {
   "cell_type": "code",
   "execution_count": null,
   "metadata": {},
   "outputs": [],
   "source": [
    "# Code to convert to HTML\n",
    "# jupyter nbconvert --to html Data\\ Science/Data\\ Analytics/Numpy/file.ipynb\n"
   ]
  },
  {
   "cell_type": "markdown",
   "metadata": {},
   "source": [
    "# Automation"
   ]
  }
 ],
 "metadata": {
  "kernelspec": {
   "display_name": "Python 3",
   "language": "python",
   "name": "python3"
  },
  "language_info": {
   "codemirror_mode": {
    "name": "ipython",
    "version": 3
   },
   "file_extension": ".py",
   "mimetype": "text/x-python",
   "name": "python",
   "nbconvert_exporter": "python",
   "pygments_lexer": "ipython3",
   "version": "3.11.4"
  }
 },
 "nbformat": 4,
 "nbformat_minor": 2
}
