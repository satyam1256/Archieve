{
 "cells": [
  {
   "cell_type": "markdown",
   "id": "df6442ca",
   "metadata": {},
   "source": [
    "# <center> NumPy </center>"
   ]
  },
  {
   "cell_type": "markdown",
   "id": "3c7e3dc5",
   "metadata": {},
   "source": [
    "## `Table of Contents`\n",
    "\n",
    "<div class='alert alert-success'>\n",
    "\n",
    "\n",
    "**1. Converting a List to an array<br>\n",
    "2. Arange Function<br>\n",
    "3. Multidimensional Array<br>\n",
    "4. Size Function<br>\n",
    "5. Shape Function<br>\n",
    "    6. Dtype Function<br>\n",
    "    7. Ndim Function<br>\n",
    "    8. Zeros and Ones Function<br>\n",
    "    9. Eye Function<br>\n",
    "    10. Empty Function<br>\n",
    "    11. Random Functions:<br>\n",
    "    -----a) np.random.rand<br>\n",
    "    -----b) np.random.randint<br>\n",
    "    -----c) np.random.randn<br>\n",
    "    12. Reshape function<br>\n",
    "    13. Linspace Function<br>\n",
    "    14. Flatten Function<br>\n",
    "    15. Logspace Function<br>\n",
    "    16. Copy Function<br>\n",
    "    17. arr.max() ,  arr.min() ,     arr.sum() functions<br>\n",
    "    18. Seed function<br>\n",
    "    19. Sorting in numpy array<br>\n",
    "    20. Mathematical Operation in Numpy<br>\n",
    "    -----a) Addition<br>\n",
    "    -----b) Substraction<br>\n",
    "    -----c) Multiplication<br>\n",
    "    -----d) Division<br>\n",
    "    -----e) Matrix Multiplication<br>\n",
    "    -----f) Power<br>\n",
    "    21. Percentile Function<br>\n",
    "    22. Mean, Variance and Standard Deviation<br>\n",
    "    23. Filtering an numpy array<br>\n",
    "    24. Transposing an array<br>\n",
    "    25. Where function<br>\n",
    "    26. Merging Arrays<br>\n",
    "    -----a) Using Concatenate<br>\n",
    "    -----b) Using vstack and hstack<br>\n",
    "    27. Splitting Arrays<br>\n",
    "    28. Turning Pictures into Numpy arrays** \n",
    "</div>"
   ]
  },
  {
   "cell_type": "code",
   "execution_count": 2,
   "id": "0024a36a",
   "metadata": {},
   "outputs": [],
   "source": [
    "import numpy as np"
   ]
  },
  {
   "cell_type": "markdown",
   "id": "5d51f0ab",
   "metadata": {},
   "source": [
    "## `1. Coverting a List to Array`"
   ]
  },
  {
   "cell_type": "code",
   "execution_count": 3,
   "id": "117d6146",
   "metadata": {},
   "outputs": [
    {
     "name": "stdout",
     "output_type": "stream",
     "text": [
      "<class 'list'>\n",
      "<class 'numpy.ndarray'>\n",
      "[1 2 3 4]\n"
     ]
    }
   ],
   "source": [
    "lst = [1,2,3,4]\n",
    "\n",
    "print(type(lst))\n",
    "\n",
    "arr = np.array(lst)\n",
    "\n",
    "print(type(arr))\n",
    "\n",
    "arr = np.array(lst)\n",
    "\n",
    "print(arr)"
   ]
  },
  {
   "cell_type": "markdown",
   "id": "ad6496dc",
   "metadata": {},
   "source": [
    "## `2. Arrange function`"
   ]
  },
  {
   "cell_type": "markdown",
   "id": "3594876d",
   "metadata": {},
   "source": [
    "`The arange([start,] stop[, step,][, dtype]) : Returns an array with evenly spaced elements as per the interval. The interval mentioned is half-opened i.e. [Start, Stop) `"
   ]
  },
  {
   "cell_type": "code",
   "execution_count": 4,
   "id": "dcd25b1e",
   "metadata": {},
   "outputs": [],
   "source": [
    "arr = np.arange(1,10,2)"
   ]
  },
  {
   "cell_type": "markdown",
   "id": "81614dcd",
   "metadata": {},
   "source": [
    "## `3. Multidimensional Array`"
   ]
  },
  {
   "cell_type": "code",
   "execution_count": 5,
   "id": "8b75b2be",
   "metadata": {},
   "outputs": [
    {
     "data": {
      "text/plain": [
       "array([[1, 2, 3],\n",
       "       [4, 5, 6],\n",
       "       [7, 8, 9]])"
      ]
     },
     "execution_count": 5,
     "metadata": {},
     "output_type": "execute_result"
    }
   ],
   "source": [
    "arr = np.array([[1,2,3],[4,5,6],[7,8,9]])\n",
    "\n",
    "arr"
   ]
  },
  {
   "cell_type": "markdown",
   "id": "370b327d",
   "metadata": {},
   "source": [
    "## `4. Size Function`"
   ]
  },
  {
   "cell_type": "markdown",
   "id": "b681819e",
   "metadata": {},
   "source": [
    "`In Python, numpy.size() function count the number of elements along a given axis`\n",
    "`(0 - Rows | 1 - Columns)`"
   ]
  },
  {
   "cell_type": "code",
   "execution_count": 6,
   "id": "70cce715",
   "metadata": {},
   "outputs": [
    {
     "name": "stdout",
     "output_type": "stream",
     "text": [
      "Total :  12\n",
      "Rows  :  4\n",
      "Cols  :  3\n"
     ]
    },
    {
     "data": {
      "text/plain": [
       "array([[1, 2, 3],\n",
       "       [4, 5, 6],\n",
       "       [7, 8, 9],\n",
       "       [1, 2, 3]])"
      ]
     },
     "execution_count": 6,
     "metadata": {},
     "output_type": "execute_result"
    }
   ],
   "source": [
    "arr = np.array([[1,2,3],[4,5,6],[7,8,9],[1,2,3]])\n",
    "\n",
    "print('Total : ', arr.size)\n",
    "print('Rows  : ', np.size(arr,0))\n",
    "print('Cols  : ', np.size(arr,1))\n",
    "\n",
    "arr"
   ]
  },
  {
   "cell_type": "markdown",
   "id": "65b131ea",
   "metadata": {},
   "source": [
    "## `5. Shape Function`"
   ]
  },
  {
   "cell_type": "markdown",
   "id": "5011bb12",
   "metadata": {},
   "source": [
    "`The shape of an array can be defined as the number of elements in each dimension. Dimension is the number of indices or subscripts, that we require in order to specify an individual element of an array`."
   ]
  },
  {
   "cell_type": "code",
   "execution_count": 7,
   "id": "9c1435c4",
   "metadata": {},
   "outputs": [
    {
     "name": "stdout",
     "output_type": "stream",
     "text": [
      "(4, 3)\n",
      "(4, 3)\n"
     ]
    }
   ],
   "source": [
    "arr = np.array([[1,2,3],[4,5,6],[7,8,9],[1,2,3]])\n",
    "\n",
    "print((np.size(arr,0),np.size(arr,1)))\n",
    "\n",
    "print(arr.shape)"
   ]
  },
  {
   "cell_type": "markdown",
   "id": "c183ee8b",
   "metadata": {},
   "source": [
    "##  `6. Dtype Function`"
   ]
  },
  {
   "cell_type": "markdown",
   "id": "a1b8e47d",
   "metadata": {},
   "source": [
    "`Every ndarray has an associated data type (dtype) object. This data type object (dtype) informs us about the layout of the array. This means it gives us information about:` \n",
    "\n",
    "- Type of the data (integer, float, Python object, etc.)\n",
    "- Size of the data (number of bytes)\n",
    "- The byte order of the data (little-endian or big-endian)\n",
    "- If the data type is a sub-array, what is its shape and data type?\n"
   ]
  },
  {
   "cell_type": "code",
   "execution_count": 8,
   "id": "1d00f166",
   "metadata": {},
   "outputs": [
    {
     "name": "stdout",
     "output_type": "stream",
     "text": [
      "int32\n",
      "float64\n"
     ]
    }
   ],
   "source": [
    "arr1 = np.array([1,2,3,1,2,3])\n",
    "arr2 = np.array([1.2,3.1,2.3])\n",
    "\n",
    "\n",
    "print(arr1.dtype)\n",
    "print(arr2.dtype)"
   ]
  },
  {
   "cell_type": "markdown",
   "id": "36f7d098",
   "metadata": {},
   "source": [
    "##  `7. Ndim Function`"
   ]
  },
  {
   "cell_type": "markdown",
   "id": "78a6c861",
   "metadata": {},
   "source": [
    "`numpy.ndarray.ndim() function return the number of dimensions of an array.`\n"
   ]
  },
  {
   "cell_type": "code",
   "execution_count": 9,
   "id": "22de74fb",
   "metadata": {},
   "outputs": [
    {
     "name": "stdout",
     "output_type": "stream",
     "text": [
      "1\n",
      "2\n",
      "3\n"
     ]
    }
   ],
   "source": [
    "arr1 = np.array([1,2,3,1,2,3])\n",
    "arr2 = np.array([[1,2,3],[1,2,3]])\n",
    "\n",
    "print(arr1.ndim)\n",
    "print(arr2.ndim)\n",
    "\n",
    "arr3 = np.array(arr1, ndmin = 3)\n",
    "print(arr3.ndim)"
   ]
  },
  {
   "cell_type": "markdown",
   "id": "3d6147c8",
   "metadata": {},
   "source": [
    "##  `8. Zeros  Function`"
   ]
  },
  {
   "cell_type": "markdown",
   "id": "2fcec0c2",
   "metadata": {},
   "source": [
    "The numpy.zeros() function returns a new array of given shape and type, with zeros. Syntax:<br>\n",
    "\n",
    "numpy.zeros(shape, dtype = None)\n"
   ]
  },
  {
   "cell_type": "code",
   "execution_count": 10,
   "id": "26f394f1",
   "metadata": {},
   "outputs": [
    {
     "name": "stdout",
     "output_type": "stream",
     "text": [
      "[[0 0 0 0 0]\n",
      " [0 0 0 0 0]\n",
      " [0 0 0 0 0]]\n"
     ]
    }
   ],
   "source": [
    "arr = np.zeros(shape = (3,5), dtype = int)\n",
    "\n",
    "print(arr)"
   ]
  },
  {
   "cell_type": "markdown",
   "id": "bb51921e",
   "metadata": {},
   "source": [
    "##  `Ones  Function`"
   ]
  },
  {
   "cell_type": "markdown",
   "id": "0b0ae221",
   "metadata": {},
   "source": [
    "`The numpy.ones() function returns a new array of given shape and type, with ones.`\n",
    " \n",
    "\n",
    "`Syntax: numpy.ones(shape, dtype = None)`"
   ]
  },
  {
   "cell_type": "code",
   "execution_count": 11,
   "id": "80c49c96",
   "metadata": {},
   "outputs": [
    {
     "name": "stdout",
     "output_type": "stream",
     "text": [
      "[[1 1 1 1 1]\n",
      " [1 1 1 1 1]\n",
      " [1 1 1 1 1]]\n"
     ]
    }
   ],
   "source": [
    "arr = np.ones(shape = (3,5), dtype = int)\n",
    "\n",
    "print(arr)"
   ]
  },
  {
   "cell_type": "markdown",
   "id": "b1de9f2c",
   "metadata": {},
   "source": [
    "##  `9. Eye  Function`"
   ]
  },
  {
   "cell_type": "markdown",
   "id": "bbff4a88",
   "metadata": {},
   "source": [
    "`The eye tool returns a 2-D array with  1’s as the diagonal and  0’s elsewhere. The diagonal can be main, upper, or lower depending on the optional parameter k.`"
   ]
  },
  {
   "cell_type": "code",
   "execution_count": 12,
   "id": "7abc9cd7",
   "metadata": {},
   "outputs": [
    {
     "data": {
      "text/plain": [
       "array([[1, 0, 0, 0],\n",
       "       [0, 1, 0, 0],\n",
       "       [0, 0, 1, 0],\n",
       "       [0, 0, 0, 1]])"
      ]
     },
     "execution_count": 12,
     "metadata": {},
     "output_type": "execute_result"
    }
   ],
   "source": [
    "np.eye(4, dtype = int)"
   ]
  },
  {
   "cell_type": "markdown",
   "id": "37582292",
   "metadata": {},
   "source": [
    "##  `10. Empty  Function`"
   ]
  },
  {
   "cell_type": "markdown",
   "id": "93bec6fc",
   "metadata": {},
   "source": [
    "`Return am empty array of given shape and type`"
   ]
  },
  {
   "cell_type": "code",
   "execution_count": 13,
   "id": "ed56c9d1",
   "metadata": {},
   "outputs": [
    {
     "data": {
      "text/plain": [
       "array([[1.06601862e-311, 7.60861095e-322, 0.00000000e+000,\n",
       "        0.00000000e+000, 2.05833592e-312],\n",
       "       [1.15998412e-028, 4.31603868e-080, 1.94919985e-153,\n",
       "        1.35717430e+131, 6.98346901e-077],\n",
       "       [1.81148490e-152, 9.37041222e-076, 1.05117820e-153,\n",
       "        6.01391519e-154, 1.05121175e-153],\n",
       "       [7.68132025e+140, 6.01347002e-154, 7.54951879e-096,\n",
       "        1.95360725e-109, 4.90900643e+252],\n",
       "       [1.94918511e-153, 6.32672800e+180, 4.74483502e+170,\n",
       "        4.59210323e-072, 2.56761507e-312]])"
      ]
     },
     "execution_count": 13,
     "metadata": {},
     "output_type": "execute_result"
    }
   ],
   "source": [
    "np.empty(shape = (5,5))"
   ]
  },
  {
   "cell_type": "markdown",
   "id": "05b875bd",
   "metadata": {},
   "source": [
    "##  `11. Random  Functions`"
   ]
  },
  {
   "cell_type": "markdown",
   "id": "990383a4",
   "metadata": {},
   "source": [
    "### **a) np.random.rand**"
   ]
  },
  {
   "cell_type": "markdown",
   "id": "3675a084",
   "metadata": {},
   "source": [
    "`The numpy.random.rand() function creates an array of specified shape and fills it with random values.`"
   ]
  },
  {
   "cell_type": "code",
   "execution_count": 14,
   "id": "3fa14064",
   "metadata": {},
   "outputs": [
    {
     "data": {
      "text/plain": [
       "array([[0.67131712, 0.28699376, 0.80074157, 0.70277132],\n",
       "       [0.72999175, 0.24963388, 0.62636138, 0.59975577],\n",
       "       [0.85873895, 0.77294303, 0.44969906, 0.59793589]])"
      ]
     },
     "execution_count": 14,
     "metadata": {},
     "output_type": "execute_result"
    }
   ],
   "source": [
    "np.random.rand(3,4)"
   ]
  },
  {
   "cell_type": "markdown",
   "id": "1294e8df",
   "metadata": {},
   "source": [
    "### **b) np.random.randint**"
   ]
  },
  {
   "cell_type": "markdown",
   "id": "3927ab7d",
   "metadata": {},
   "source": [
    "`numpy.random.randint() is one of the function for doing random sampling in numpy. It returns an array of specified shape and fills it with random integers from low (inclusive) to high (exclusive), i.e. in the interval [low, high).`"
   ]
  },
  {
   "cell_type": "code",
   "execution_count": 15,
   "id": "06e09afe",
   "metadata": {},
   "outputs": [
    {
     "data": {
      "text/plain": [
       "array([7, 9, 1, 2, 7, 8, 5, 6, 2, 7])"
      ]
     },
     "execution_count": 15,
     "metadata": {},
     "output_type": "execute_result"
    }
   ],
   "source": [
    "np.random.randint(low = 1, high = 10, size = 10)"
   ]
  },
  {
   "cell_type": "markdown",
   "id": "e3209f18",
   "metadata": {},
   "source": [
    "### **c) np.random.randn**"
   ]
  },
  {
   "cell_type": "markdown",
   "id": "a797e41e",
   "metadata": {},
   "source": [
    "The numpy.random.randn() function creates an array of specified shape and fills it with random values as per standard normal distribution. "
   ]
  },
  {
   "cell_type": "code",
   "execution_count": 16,
   "id": "e19ae139",
   "metadata": {},
   "outputs": [
    {
     "data": {
      "image/png": "[encoded data removed]",
      "text/plain": [
       "<Figure size 640x480 with 1 Axes>"
      ]
     },
     "metadata": {},
     "output_type": "display_data"
    }
   ],
   "source": [
    "import matplotlib.pyplot as plt\n",
    "\n",
    "%matplotlib inline\n",
    "\n",
    "plt.hist(np.random.randn(10000000), bins = 1000);"
   ]
  },
  {
   "cell_type": "markdown",
   "id": "e4a0b308",
   "metadata": {},
   "source": [
    "##  `12. Reshape function - will not alter the original data`"
   ]
  },
  {
   "cell_type": "markdown",
   "id": "90396b14",
   "metadata": {},
   "source": [
    "`The numpy.reshape() function shapes an array without changing the data of the array.<br>\n",
    "It should be noted that the product if the rows and columns should be same `"
   ]
  },
  {
   "cell_type": "code",
   "execution_count": 17,
   "id": "cdd8ad84",
   "metadata": {},
   "outputs": [
    {
     "name": "stdout",
     "output_type": "stream",
     "text": [
      "(3, 4)\n",
      "(4, 3)\n",
      "(6, 2)\n"
     ]
    }
   ],
   "source": [
    "arr = np.random.randint(1,15,(3,4))\n",
    "\n",
    "print(arr.shape)\n",
    "arr = arr.reshape(4,3)\n",
    "print(arr.shape)\n",
    "arr = arr.reshape(6,2)\n",
    "\n",
    "23\n",
    "print(arr.shape)"
   ]
  },
  {
   "cell_type": "markdown",
   "id": "ebf5f997",
   "metadata": {},
   "source": [
    "##   `13. Linspace  Function`"
   ]
  },
  {
   "cell_type": "markdown",
   "id": "c1258f35",
   "metadata": {},
   "source": [
    "`The numpy.linspace() function returns number spaces evenly w.r.t interval. Similar to numpy.arange() function but instead of step it uses sample number.` "
   ]
  },
  {
   "cell_type": "markdown",
   "id": "12c4a402",
   "metadata": {},
   "source": [
    "Parameters : <br>\n",
    "\n",
    "- -> start  : [optional] start of interval range. By default start = 0\n",
    "- -> stop   : end of interval range\n",
    "- -> restep : If True, return (samples, step). By default restep = False\n",
    "- -> num    : [int, optional] No. of samples to generate\n",
    "- -> dtype  : type of output array"
   ]
  },
  {
   "cell_type": "code",
   "execution_count": 18,
   "id": "f44c9db7",
   "metadata": {},
   "outputs": [
    {
     "data": {
      "text/plain": [
       "array([ 1.  ,  3.25,  5.5 ,  7.75, 10.  ])"
      ]
     },
     "execution_count": 18,
     "metadata": {},
     "output_type": "execute_result"
    }
   ],
   "source": [
    "np.linspace(1,10,5)"
   ]
  },
  {
   "cell_type": "markdown",
   "id": "2cf25475",
   "metadata": {},
   "source": [
    "##   `14. Flatten  Function`"
   ]
  },
  {
   "cell_type": "markdown",
   "id": "649009da",
   "metadata": {},
   "source": [
    "`ndarray.flatten() function return a copy of the array collapsed into one dimension`."
   ]
  },
  {
   "cell_type": "code",
   "execution_count": 19,
   "id": "12b880a4",
   "metadata": {},
   "outputs": [
    {
     "name": "stdout",
     "output_type": "stream",
     "text": [
      "(3, 4)\n",
      "[[ 3  3  1 12]\n",
      " [ 5  1  1 11]\n",
      " [ 7 13 10  3]]\n",
      "--------------------\n",
      "(12,)\n",
      "[ 3  3  1 12  5  1  1 11  7 13 10  3]\n"
     ]
    }
   ],
   "source": [
    "arr = np.random.randint(1,15,(3,4))\n",
    "\n",
    "print(arr.shape)\n",
    "print(arr)\n",
    "print('-'*20)\n",
    "arr = arr.flatten()\n",
    "print(arr.shape)\n",
    "print(arr)"
   ]
  },
  {
   "cell_type": "markdown",
   "id": "f686069e",
   "metadata": {},
   "source": [
    "##   `15. Logspace  Function`"
   ]
  },
  {
   "cell_type": "markdown",
   "id": "b7e7e52b",
   "metadata": {},
   "source": [
    "`The numpy.logspace() function returns number spaces evenly w.r.t interval on a log scale.`"
   ]
  },
  {
   "cell_type": "markdown",
   "id": "ce955698",
   "metadata": {},
   "source": [
    "Parameters : \n",
    "\n",
    "- -> start    : [float] start(base ** start) of interval range.\n",
    "- -> stop     : [float] end(base ** stop) of interval range\n",
    "- -> endpoint : [boolean, optional]If True, stop is the last sample. By default, True\n",
    "- -> num      : [int, optional] No. of samples to generate\n",
    "- -> base     : [float, optional] Base of log scale. By default, equals 10.0\n",
    "- -> dtype    : type of output array"
   ]
  },
  {
   "cell_type": "code",
   "execution_count": 20,
   "id": "bb5603f5",
   "metadata": {},
   "outputs": [
    {
     "name": "stdout",
     "output_type": "stream",
     "text": [
      "[  100.           166.81005372   278.25594022   464.15888336\n",
      "   774.26368268  1291.54966501  2154.43469003  3593.8136638\n",
      "  5994.84250319 10000.        ]\n",
      "--------------------\n",
      "[ 4.          4.66611616  5.44316     6.34960421  7.4069977   8.64047791\n",
      " 10.0793684  11.75787594 13.71590373 16.        ]\n"
     ]
    }
   ],
   "source": [
    "print(np.logspace(2,4,10))\n",
    "print('-'*20)\n",
    "print(np.logspace(2,4,10, base = 2))"
   ]
  },
  {
   "cell_type": "markdown",
   "id": "f029ad6c",
   "metadata": {},
   "source": [
    "## `16. Copy function`"
   ]
  },
  {
   "cell_type": "markdown",
   "id": "317d7048",
   "metadata": {},
   "source": [
    "`If we normally use the equals sign then the **id** of both the numpy array will be same, so we need to use to` **copy** `function`"
   ]
  },
  {
   "cell_type": "code",
   "execution_count": 21,
   "id": "f8e39648",
   "metadata": {},
   "outputs": [
    {
     "name": "stdout",
     "output_type": "stream",
     "text": [
      "[10 14  7 11 11 12  5  3 13 10] 2157986219664\n",
      "[10 14  7 11 11 12  5  3 13 10] 2157986219664\n",
      "--------------------------------------------------\n",
      "[ 4  1  5  3  7 12  5  9  4  4] 2157986220432\n",
      "[ 4  1  5  3  7 12  5  9  4  4] 2158002325232\n"
     ]
    }
   ],
   "source": [
    "arr1 = np.random.randint(1,15,10)\n",
    "\n",
    "arr2 = arr1\n",
    "\n",
    "print(arr1, id(arr1))\n",
    "print(arr2, id(arr2))\n",
    "\n",
    "print('-'*50)\n",
    "\n",
    "arr1 = np.random.randint(1,15,10)\n",
    "arr2 = np.copy(arr1)\n",
    "\n",
    "print(arr1, id(arr1))\n",
    "print(arr2, id(arr2))"
   ]
  },
  {
   "cell_type": "markdown",
   "id": "62e1d51a",
   "metadata": {},
   "source": [
    "## `17. arr.max() ,  arr.min() ,     arr.sum() functions`"
   ]
  },
  {
   "cell_type": "markdown",
   "id": "a18977e3",
   "metadata": {},
   "source": [
    "- arr.max() will give us the maximum element present in the array\n",
    "- arr.min() will give us the minimun element present in the array\n",
    "- arr.sum() will give us the sum of all the elements present in the array"
   ]
  },
  {
   "cell_type": "code",
   "execution_count": 22,
   "id": "3d81fea6",
   "metadata": {},
   "outputs": [
    {
     "name": "stdout",
     "output_type": "stream",
     "text": [
      "--------------------\n",
      "[[23 21 14 24 22]\n",
      " [18 20 24  3 28]\n",
      " [ 6 18  4 21  4]]\n",
      "--------------------\n",
      "MAX :  28\n",
      "MIN :  3\n",
      "SUM :  250\n"
     ]
    }
   ],
   "source": [
    "arr = np.random.randint(1,30,(3,5))\n",
    "\n",
    "print('-'*20)\n",
    "print(arr)\n",
    "print('-'*20)\n",
    "\n",
    "print('MAX : ', arr.max())\n",
    "print('MIN : ', arr.min())\n",
    "print('SUM : ', arr.sum())"
   ]
  },
  {
   "cell_type": "markdown",
   "id": "aea255c0",
   "metadata": {},
   "source": [
    "**We can use the axis parameter to get the max, min and sum of a particular column or row**<br>\n",
    "- axis=0 is for the column\n",
    "- axis=1 is for the row"
   ]
  },
  {
   "cell_type": "code",
   "execution_count": 23,
   "id": "f584c219",
   "metadata": {},
   "outputs": [
    {
     "name": "stdout",
     "output_type": "stream",
     "text": [
      "--------------------\n",
      "[[17  7 23 21 22]\n",
      " [15  2  2 12 10]\n",
      " [24 19 25  8 22]]\n",
      "--------------------\n"
     ]
    }
   ],
   "source": [
    "arr = np.random.randint(1,30,(3,5))\n",
    "\n",
    "print('-'*20)\n",
    "print(arr)\n",
    "print('-'*20)"
   ]
  },
  {
   "cell_type": "markdown",
   "id": "bc8d2d3f",
   "metadata": {},
   "source": [
    "#### For columns"
   ]
  },
  {
   "cell_type": "code",
   "execution_count": 24,
   "id": "a725a4d3",
   "metadata": {},
   "outputs": [
    {
     "name": "stdout",
     "output_type": "stream",
     "text": [
      "MAX :  [24 19 25 21 22]\n",
      "MIN :  [15  2  2  8 10]\n",
      "SUM :  [56 28 50 41 54]\n"
     ]
    }
   ],
   "source": [
    "print('MAX : ', arr.max(axis = 0))\n",
    "print('MIN : ', arr.min(axis = 0))\n",
    "print('SUM : ', arr.sum(axis = 0))"
   ]
  },
  {
   "cell_type": "markdown",
   "id": "40e428ed",
   "metadata": {},
   "source": [
    "#### Fow rows"
   ]
  },
  {
   "cell_type": "code",
   "execution_count": 25,
   "id": "1b255864",
   "metadata": {},
   "outputs": [
    {
     "name": "stdout",
     "output_type": "stream",
     "text": [
      "MAX :  [23 15 25]\n",
      "MIN :  [7 2 8]\n",
      "SUM :  [90 41 98]\n"
     ]
    }
   ],
   "source": [
    "print('MAX : ', arr.max(axis = 1))\n",
    "print('MIN : ', arr.min(axis = 1))\n",
    "print('SUM : ', arr.sum(axis = 1))"
   ]
  },
  {
   "cell_type": "markdown",
   "id": "44ee6aed",
   "metadata": {},
   "source": [
    "## `18. Seed Function`"
   ]
  },
  {
   "cell_type": "markdown",
   "id": "00bbefac",
   "metadata": {},
   "source": [
    "`random() function is used to generate random numbers in Python. Not actually random, rather this is used to generate pseudo-random numbers. That implies that these randomly generated numbers can be determined. random() function generates numbers for some values. This value is also called seed value.` \n"
   ]
  },
  {
   "cell_type": "markdown",
   "id": "75afa372",
   "metadata": {},
   "source": [
    "`Syntax : random.seed( l, version )<br>`\n",
    "\n",
    "**Parameter :** \n",
    "\n",
    "- l : Any seed value used to produce a random number.\n",
    "- version : A integer used to specify how to convert l in a integer."
   ]
  },
  {
   "cell_type": "code",
   "execution_count": 52,
   "id": "25986ae4",
   "metadata": {},
   "outputs": [
    {
     "data": {
      "text/plain": [
       "array([[9, 4, 9, 9, 1],\n",
       "       [6, 4, 6, 8, 7],\n",
       "       [1, 5, 8, 9, 2]])"
      ]
     },
     "execution_count": 52,
     "metadata": {},
     "output_type": "execute_result"
    }
   ],
   "source": [
    "np.random.seed(3)\n",
    "\n",
    "arr = np.random.randint(1,10,(3,5))\n",
    "\n",
    "arr"
   ]
  },
  {
   "cell_type": "markdown",
   "id": "2b392d53",
   "metadata": {},
   "source": [
    "## `19. Sorting Function`"
   ]
  },
  {
   "cell_type": "markdown",
   "id": "3c890f39",
   "metadata": {},
   "source": [
    "`numpy.sort() : This function returns a sorted copy of an array.`\n",
    "\n",
    "`Parameters :`\n",
    "\n",
    "- arr : Array to be sorted.\n",
    "- axis : Axis along which we need array to be started.\n",
    "- order : This argument specifies which fields to compare first.\n",
    "- kind : [‘quicksort’{default}, ‘mergesort’, ‘heapsort’]Sorting algorithm.\n",
    "\n"
   ]
  },
  {
   "cell_type": "code",
   "execution_count": 27,
   "id": "5deef6f8",
   "metadata": {},
   "outputs": [
    {
     "name": "stdout",
     "output_type": "stream",
     "text": [
      "---------------\n",
      "[[9 4 9 9 1]\n",
      " [6 4 6 8 7]\n",
      " [1 5 8 9 2]]\n",
      "---------------\n",
      "[[1 4 9 9 9]\n",
      " [4 6 6 7 8]\n",
      " [1 2 5 8 9]]\n",
      "---------------\n",
      "[[1 4 6 8 1]\n",
      " [6 4 8 9 2]\n",
      " [9 5 9 9 7]]\n",
      "---------------\n",
      "[[1 1 2 4 4]\n",
      " [5 6 6 7 8]\n",
      " [8 9 9 9 9]]\n",
      "---------------\n"
     ]
    }
   ],
   "source": [
    "np.random.seed(3)\n",
    "arr = np.random.randint(1,10,(3,5))\n",
    "\n",
    "\n",
    "print('-'*15)\n",
    "print(arr)\n",
    "print('-'*15)\n",
    "print(np.sort(arr, axis = 1))\n",
    "print('-'*15)\n",
    "print(np.sort(arr, axis = 0))\n",
    "print('-'*15)\n",
    "\n",
    "arr = np.reshape(np.sort(arr.flatten()), arr.shape)\n",
    "print(arr)\n",
    "print('-'*15)"
   ]
  },
  {
   "cell_type": "markdown",
   "id": "845bac07",
   "metadata": {},
   "source": [
    "We can choose which type of sort we want to perform"
   ]
  },
  {
   "cell_type": "code",
   "execution_count": 28,
   "id": "76ddc876",
   "metadata": {},
   "outputs": [
    {
     "name": "stdout",
     "output_type": "stream",
     "text": [
      "[[1 1 2 4 4]\n",
      " [5 6 6 7 8]\n",
      " [8 9 9 9 9]]\n"
     ]
    }
   ],
   "source": [
    "print(np.sort(arr, axis = 0, kind = 'mergesort'))"
   ]
  },
  {
   "cell_type": "markdown",
   "id": "d7f4f64e",
   "metadata": {},
   "source": [
    "## `20. Mathematical Operations`"
   ]
  },
  {
   "cell_type": "markdown",
   "id": "c2c3983f",
   "metadata": {},
   "source": [
    "### a) Addition"
   ]
  },
  {
   "cell_type": "code",
   "execution_count": 29,
   "id": "ea2e1aa1",
   "metadata": {},
   "outputs": [
    {
     "name": "stdout",
     "output_type": "stream",
     "text": [
      "---------------\n",
      "[[9 4 9 9 1]\n",
      " [6 4 6 8 7]\n",
      " [1 5 8 9 2]]\n",
      "---------------\n",
      "[[10  5 10 10  2]\n",
      " [ 7  5  7  9  8]\n",
      " [ 2  6  9 10  3]]\n",
      "---------------\n"
     ]
    }
   ],
   "source": [
    "np.random.seed(3)\n",
    "\n",
    "arr = np.random.randint(1,10,(3,5))\n",
    "\n",
    "print('-' * 15)\n",
    "print(arr)\n",
    "print('-' * 15)\n",
    "print(arr + 1)\n",
    "print('-' * 15)"
   ]
  },
  {
   "cell_type": "markdown",
   "id": "798221e0",
   "metadata": {},
   "source": [
    "### b) Substraction"
   ]
  },
  {
   "cell_type": "code",
   "execution_count": 30,
   "id": "cc72113f",
   "metadata": {},
   "outputs": [
    {
     "name": "stdout",
     "output_type": "stream",
     "text": [
      "---------------\n",
      "[[9 4 9 9 1]\n",
      " [6 4 6 8 7]\n",
      " [1 5 8 9 2]]\n",
      "---------------\n",
      "[[8 3 8 8 0]\n",
      " [5 3 5 7 6]\n",
      " [0 4 7 8 1]]\n",
      "---------------\n"
     ]
    }
   ],
   "source": [
    "print('-' * 15)\n",
    "print(arr)\n",
    "print('-' * 15)\n",
    "print(arr - 1)\n",
    "print('-' * 15)"
   ]
  },
  {
   "cell_type": "markdown",
   "id": "a29c8c15",
   "metadata": {},
   "source": [
    "### c) Multiplication"
   ]
  },
  {
   "cell_type": "code",
   "execution_count": 31,
   "id": "0620e195",
   "metadata": {},
   "outputs": [
    {
     "name": "stdout",
     "output_type": "stream",
     "text": [
      "---------------\n",
      "[[9 4 9 9 1]\n",
      " [6 4 6 8 7]\n",
      " [1 5 8 9 2]]\n",
      "---------------\n",
      "[[18  8 18 18  2]\n",
      " [12  8 12 16 14]\n",
      " [ 2 10 16 18  4]]\n",
      "---------------\n"
     ]
    }
   ],
   "source": [
    "print('-' * 15)\n",
    "print(arr)\n",
    "print('-' * 15)\n",
    "print(arr * 2)\n",
    "print('-' * 15)"
   ]
  },
  {
   "cell_type": "markdown",
   "id": "5d4fb695",
   "metadata": {},
   "source": [
    "### d) Division"
   ]
  },
  {
   "cell_type": "code",
   "execution_count": 32,
   "id": "53cb0ff4",
   "metadata": {},
   "outputs": [
    {
     "name": "stdout",
     "output_type": "stream",
     "text": [
      "---------------\n",
      "[[9 4 9 9 1]\n",
      " [6 4 6 8 7]\n",
      " [1 5 8 9 2]]\n",
      "---------------\n",
      "[[4.5 2.  4.5 4.5 0.5]\n",
      " [3.  2.  3.  4.  3.5]\n",
      " [0.5 2.5 4.  4.5 1. ]]\n",
      "---------------\n"
     ]
    }
   ],
   "source": [
    "print('-' * 15)\n",
    "print(arr)\n",
    "print('-' * 15)\n",
    "print(arr / 2)\n",
    "print('-' * 15)"
   ]
  },
  {
   "cell_type": "markdown",
   "id": "421ec8bf",
   "metadata": {},
   "source": [
    "### e) Matrix Multiplication\n",
    "`For Matrix Multiplication we either use the `\n",
    "- dot function or\n",
    "- the @ symbol"
   ]
  },
  {
   "cell_type": "code",
   "execution_count": 33,
   "id": "c727b56b",
   "metadata": {},
   "outputs": [
    {
     "name": "stdout",
     "output_type": "stream",
     "text": [
      "[[ 25  78]\n",
      " [ 45 108]]\n",
      "------------\n",
      "[[ 25  78]\n",
      " [ 45 108]]\n"
     ]
    }
   ],
   "source": [
    "np.random.seed(3)\n",
    "\n",
    "arr1 = np.random.randint(1,10,(2,2))\n",
    "arr2 = np.random.randint(1,10,(2,2))\n",
    "\n",
    "print(arr1.dot(arr2))\n",
    "print('-'*12)\n",
    "print(arr1@arr2)"
   ]
  },
  {
   "cell_type": "markdown",
   "id": "2e59454e",
   "metadata": {},
   "source": [
    "### f) Power"
   ]
  },
  {
   "cell_type": "code",
   "execution_count": 34,
   "id": "dca65273",
   "metadata": {},
   "outputs": [
    {
     "name": "stdout",
     "output_type": "stream",
     "text": [
      "[[9 4 9 9 1]\n",
      " [6 4 6 8 7]\n",
      " [1 5 8 9 2]]\n",
      "---------------\n",
      "[[81 16 81 81  1]\n",
      " [36 16 36 64 49]\n",
      " [ 1 25 64 81  4]]\n"
     ]
    }
   ],
   "source": [
    "print(arr)\n",
    "print('-'*15)\n",
    "print(arr ** 2)"
   ]
  },
  {
   "cell_type": "markdown",
   "id": "854a2cec",
   "metadata": {},
   "source": [
    "## ` 21. Percentile Function `</font>"
   ]
  },
  {
   "cell_type": "markdown",
   "id": "bfff1d85",
   "metadata": {},
   "source": [
    "`numpy.percentile()function used to compute the nth percentile of the given data (array elements) along the specified axis`. "
   ]
  },
  {
   "cell_type": "code",
   "execution_count": 35,
   "id": "769b7078",
   "metadata": {},
   "outputs": [
    {
     "name": "stdout",
     "output_type": "stream",
     "text": [
      "[9 4 9 9 1 6 4 6 8 7]\n",
      "[1 4 4 6 6 7 8 9 9 9]\n",
      "6.5\n"
     ]
    }
   ],
   "source": [
    "np.random.seed(3)\n",
    "\n",
    "arr = np.random.randint(1,10,10)\n",
    "print(arr)\n",
    "\n",
    "arr = np.sort(arr)\n",
    "print(arr)\n",
    "\n",
    "print(np.percentile(arr, 50))"
   ]
  },
  {
   "cell_type": "markdown",
   "id": "788af731",
   "metadata": {},
   "source": [
    "## `22. Mean, Variance and Standard deviation`"
   ]
  },
  {
   "cell_type": "markdown",
   "id": "a4e979ad",
   "metadata": {},
   "source": [
    " `In NumPy, we can compute the mean, standard deviation, and variance of a given array along the second axis by two approaches first is by using inbuilt functions and second is by the formulas of the mean, standard deviation, and variance`.\n",
    "\n",
    " `Using numpy.mean(), numpy.std(), numpy.var()`\n",
    "\n"
   ]
  },
  {
   "cell_type": "code",
   "execution_count": 36,
   "id": "257c2768",
   "metadata": {},
   "outputs": [
    {
     "name": "stdout",
     "output_type": "stream",
     "text": [
      "[1 5 8 9 2 7 3 3 2 4]\n",
      "4.4\n",
      "6.839999999999999\n",
      "2.6153393661244038\n"
     ]
    }
   ],
   "source": [
    "arr = np.random.randint(1,10,10)\n",
    "\n",
    "print(arr)\n",
    "print(arr.mean())\n",
    "print(arr.var())\n",
    "print(arr.std())"
   ]
  },
  {
   "cell_type": "markdown",
   "id": "85f68749",
   "metadata": {},
   "source": [
    "## `23. Filtering an numpy array`"
   ]
  },
  {
   "cell_type": "code",
   "execution_count": 37,
   "id": "56c37bf2",
   "metadata": {},
   "outputs": [
    {
     "name": "stdout",
     "output_type": "stream",
     "text": [
      "[1 2 3 4 5 6 7 8 9]\n",
      "[ True  True  True  True False False False False False]\n",
      "[1 2 3 4]\n"
     ]
    }
   ],
   "source": [
    "arr = np.arange(1,10)\n",
    "\n",
    "print(arr)\n",
    "print(arr < 5)\n",
    "print(arr[arr < 5])"
   ]
  },
  {
   "cell_type": "markdown",
   "id": "c62bdf58",
   "metadata": {},
   "source": [
    "- We can store this into a new variable if we need this filtered array"
   ]
  },
  {
   "cell_type": "code",
   "execution_count": 38,
   "id": "1a25766f",
   "metadata": {},
   "outputs": [
    {
     "name": "stdout",
     "output_type": "stream",
     "text": [
      "[1 2 3 4]\n"
     ]
    }
   ],
   "source": [
    "arr2 = arr[arr < 5] \n",
    "print(arr2)"
   ]
  },
  {
   "cell_type": "markdown",
   "id": "1b79f1db",
   "metadata": {},
   "source": [
    "- If we want to replace all the values above 5 with 10 we can even do that"
   ]
  },
  {
   "cell_type": "code",
   "execution_count": 39,
   "id": "d281966e",
   "metadata": {},
   "outputs": [
    {
     "data": {
      "text/plain": [
       "array([ 1,  2,  3,  4,  5, 10, 10, 10, 10])"
      ]
     },
     "execution_count": 39,
     "metadata": {},
     "output_type": "execute_result"
    }
   ],
   "source": [
    "arr[arr > 5] = 10\n",
    "\n",
    "arr"
   ]
  },
  {
   "cell_type": "markdown",
   "id": "63f9df80",
   "metadata": {},
   "source": [
    "## `24 Transposing an array`"
   ]
  },
  {
   "cell_type": "markdown",
   "id": "5b8d46fd",
   "metadata": {},
   "source": [
    "`With the help of Numpy ndarray.T object, we can make a Transpose of an array having dimension greater than or equal to 2.`"
   ]
  },
  {
   "cell_type": "code",
   "execution_count": 40,
   "id": "58697afb",
   "metadata": {},
   "outputs": [
    {
     "name": "stdout",
     "output_type": "stream",
     "text": [
      "[[ 6  9 15  2 11]\n",
      " [ 8 12  2 16 17]\n",
      " [ 6 18 15  1  1]]\n",
      "--------------------\n",
      "[[ 6  8  6]\n",
      " [ 9 12 18]\n",
      " [15  2 15]\n",
      " [ 2 16  1]\n",
      " [11 17  1]]\n"
     ]
    }
   ],
   "source": [
    "arr = np.random.randint(1,20,(3,5))\n",
    "\n",
    "print(arr)\n",
    "print('-'*20)\n",
    "print(arr.T)"
   ]
  },
  {
   "cell_type": "markdown",
   "id": "b066526b",
   "metadata": {},
   "source": [
    "## `25. Where function `"
   ]
  },
  {
   "cell_type": "markdown",
   "id": "aeb58623",
   "metadata": {},
   "source": [
    "`The numpy.where() function returns the indices of elements in an input array where the given condition is satisfied.`\n",
    "\n",
    "`Syntax :numpy.where(condition[, x, y])\n",
    "Parameters:\n",
    "condition : When True, yield x, otherwise yield y.\n",
    "x, y : Values from which to choose. x, y and condition need to be broadcastable to some shape.`\n",
    "\n",
    "`Returns:\n",
    "out : [ndarray or tuple of ndarrays] If both x and y are specified, the output array contains elements of x where condition is True, and elements from y elsewhere.`\n",
    "\n",
    "`If only condition is given, return the tuple condition.nonzero(), the indices where condition is True.`"
   ]
  },
  {
   "cell_type": "code",
   "execution_count": 41,
   "id": "60329641",
   "metadata": {},
   "outputs": [
    {
     "data": {
      "text/plain": [
       "array([19, 64, 38, 57, 57, 72, 38, 47, 34,  2])"
      ]
     },
     "execution_count": 41,
     "metadata": {},
     "output_type": "execute_result"
    }
   ],
   "source": [
    "arr = np.random.randint(1,100,10)\n",
    "arr"
   ]
  },
  {
   "cell_type": "markdown",
   "id": "642f3c92",
   "metadata": {},
   "source": [
    "So now if we are having an even number let's convert it into 100 and the ones which are odd we leave it to the way it is"
   ]
  },
  {
   "cell_type": "code",
   "execution_count": 42,
   "id": "8cd9f83a",
   "metadata": {},
   "outputs": [
    {
     "name": "stdout",
     "output_type": "stream",
     "text": [
      "[19 64 38 57 57 72 38 47 34  2]\n",
      "['19' 'even' 'even' '57' '57' 'even' 'even' '47' 'even' 'even']\n",
      "['odd' '64' '38' 'odd' 'odd' '72' '38' 'odd' '34' '2']\n",
      "['odd' 'even' 'even' 'odd' 'odd' 'even' 'even' 'odd' 'even' 'even']\n"
     ]
    }
   ],
   "source": [
    "print(arr)\n",
    "\n",
    "print(np.where(arr%2==0, 'even',arr))\n",
    "print(np.where(arr%2!=0, 'odd',arr))\n",
    "\n",
    "arr1 = np.where(arr%2==0, 'even',arr)\n",
    "arr1 = np.where(arr%2!=0, 'odd',arr1)\n",
    "\n",
    "print(arr1)"
   ]
  },
  {
   "cell_type": "markdown",
   "id": "947b4622",
   "metadata": {},
   "source": [
    "## `26. Merging Arrays`"
   ]
  },
  {
   "cell_type": "markdown",
   "id": "5ef43a11",
   "metadata": {},
   "source": [
    "### a) Concatenate"
   ]
  },
  {
   "cell_type": "markdown",
   "id": "268dd193",
   "metadata": {},
   "source": [
    "`We can perform the concatenation operation using the concatenate() function. With this function, arrays are concatenated either row-wise or column-wise, given that they have equal rows or columns respectively. Column-wise concatenation can be done by equating axis to 1 as an argument in the function.`"
   ]
  },
  {
   "cell_type": "code",
   "execution_count": 43,
   "id": "323a742f",
   "metadata": {},
   "outputs": [
    {
     "name": "stdout",
     "output_type": "stream",
     "text": [
      "[[6 6 8 5]\n",
      " [4 1 1 1]]\n",
      "---------------\n",
      "[[1 3 3 8]\n",
      " [1 6 1 2]]\n",
      "------------------------------\n",
      "[[6 6 8 5]\n",
      " [4 1 1 1]\n",
      " [1 3 3 8]\n",
      " [1 6 1 2]]\n",
      "------------------------------\n",
      "[[6 6 8 5 1 3 3 8]\n",
      " [4 1 1 1 1 6 1 2]]\n"
     ]
    }
   ],
   "source": [
    "arr1 = np.random.randint(1,10,(2,4))\n",
    "arr2 = np.random.randint(1,10,(2,4))\n",
    "\n",
    "print(arr1)\n",
    "print('-'*15)\n",
    "print(arr2)\n",
    "\n",
    "print('-'*30)\n",
    "print(np.concatenate((arr1,arr2), axis = 0))\n",
    "print('-'*30)\n",
    "print(np.concatenate((arr1,arr2), axis = 1))"
   ]
  },
  {
   "cell_type": "markdown",
   "id": "7411fb9f",
   "metadata": {},
   "source": [
    "### b) Vstack and Hstack"
   ]
  },
  {
   "cell_type": "markdown",
   "id": "10afd97a",
   "metadata": {},
   "source": [
    "`numpy.hstack() function is used to stack the sequence of input arrays horizontally (i.e. column wise) to make a single array.`"
   ]
  },
  {
   "cell_type": "code",
   "execution_count": 44,
   "id": "5f3e1144",
   "metadata": {},
   "outputs": [
    {
     "name": "stdout",
     "output_type": "stream",
     "text": [
      "[[5 2 3 3]\n",
      " [5 9 1 7]]\n",
      "---------------\n",
      "[[1 5 2 6]\n",
      " [2 9 9 8]]\n",
      "---------------\n",
      "[[5 2 3 3 1 5 2 6]\n",
      " [5 9 1 7 2 9 9 8]]\n"
     ]
    }
   ],
   "source": [
    "arr1 = np.random.randint(1,10,(2,4))\n",
    "arr2 = np.random.randint(1,10,(2,4))\n",
    "\n",
    "print(arr1)\n",
    "print('-'*15)\n",
    "print(arr2)\n",
    "print('-'*15)\n",
    "\n",
    "print(np.hstack((arr1,arr2)))"
   ]
  },
  {
   "cell_type": "markdown",
   "id": "74f59d22",
   "metadata": {},
   "source": [
    "`numpy.vstack() function is used to stack the sequence of input arrays vertically to make a single array.`"
   ]
  },
  {
   "cell_type": "code",
   "execution_count": 45,
   "id": "016530e7",
   "metadata": {},
   "outputs": [
    {
     "name": "stdout",
     "output_type": "stream",
     "text": [
      "[[5 2 3 3]\n",
      " [5 9 1 7]]\n",
      "---------------\n",
      "[[1 5 2 6]\n",
      " [2 9 9 8]]\n",
      "---------------\n",
      "[[5 2 3 3]\n",
      " [5 9 1 7]\n",
      " [1 5 2 6]\n",
      " [2 9 9 8]]\n"
     ]
    }
   ],
   "source": [
    "print(arr1)\n",
    "print('-'*15)\n",
    "print(arr2)\n",
    "print('-'*15)\n",
    "\n",
    "print(np.vstack((arr1,arr2)))"
   ]
  },
  {
   "cell_type": "markdown",
   "id": "f519fcc6",
   "metadata": {},
   "source": [
    "## `27. Splitting Arrays`"
   ]
  },
  {
   "cell_type": "code",
   "execution_count": 46,
   "id": "20676e42",
   "metadata": {},
   "outputs": [
    {
     "name": "stdout",
     "output_type": "stream",
     "text": [
      "[[1 1 2 8]\n",
      " [9 8 5 1]\n",
      " [1 5 4 1]\n",
      " [9 3 8 3]]\n"
     ]
    }
   ],
   "source": [
    "arr = np.random.randint(1,10,(4,4))\n",
    "\n",
    "print(arr)"
   ]
  },
  {
   "cell_type": "markdown",
   "id": "c163cbe3",
   "metadata": {},
   "source": [
    "`numpy.vsplit() function split an array into multiple sub-arrays vertically (row-wise). vsplit is equivalent to split with axis=0 (default), the array is always split along the first axis regardless of the array dimension.`\n",
    "\n"
   ]
  },
  {
   "cell_type": "code",
   "execution_count": 47,
   "id": "22f9f669",
   "metadata": {},
   "outputs": [
    {
     "data": {
      "text/plain": [
       "[array([[1, 1, 2, 8],\n",
       "        [9, 8, 5, 1]]),\n",
       " array([[1, 5, 4, 1],\n",
       "        [9, 3, 8, 3]])]"
      ]
     },
     "execution_count": 47,
     "metadata": {},
     "output_type": "execute_result"
    }
   ],
   "source": [
    "np.vsplit(arr, 2)"
   ]
  },
  {
   "cell_type": "markdown",
   "id": "fdf6bb30",
   "metadata": {},
   "source": [
    "`numpy.hsplit() function split an array into multiple sub-arrays horizontally (column-wise). hsplit is equivalent to split with axis=1, the array is always split along the second axis regardless of the array dimension.`"
   ]
  },
  {
   "cell_type": "code",
   "execution_count": 48,
   "id": "e4f3ddb1",
   "metadata": {},
   "outputs": [
    {
     "data": {
      "text/plain": [
       "[array([[1, 1],\n",
       "        [9, 8],\n",
       "        [1, 5],\n",
       "        [9, 3]]),\n",
       " array([[2, 8],\n",
       "        [5, 1],\n",
       "        [4, 1],\n",
       "        [8, 3]])]"
      ]
     },
     "execution_count": 48,
     "metadata": {},
     "output_type": "execute_result"
    }
   ],
   "source": [
    "np.hsplit(arr, 2)"
   ]
  },
  {
   "cell_type": "markdown",
   "id": "00c7aa57",
   "metadata": {},
   "source": [
    "## `28. Turning Pics into Numpy arrays`"
   ]
  },
  {
   "cell_type": "markdown",
   "id": "d29993aa",
   "metadata": {},
   "source": [
    "<img src='GFG.png'>"
   ]
  },
  {
   "cell_type": "markdown",
   "id": "17cbc2fc",
   "metadata": {},
   "source": [
    "This is picture we are having right here"
   ]
  },
  {
   "cell_type": "markdown",
   "id": "02b6bd0d",
   "metadata": {},
   "source": [
    "`Once we can turn this picture into an numpy array we can perform operations on that and pass the array even for some machine learning algorithms which will be benefitial for us`"
   ]
  },
  {
   "cell_type": "markdown",
   "id": "9913f628",
   "metadata": {},
   "source": [
    "We will be using **`imread`** function here which belongs from the matplotlib class"
   ]
  },
  {
   "cell_type": "code",
   "execution_count": 56,
   "id": "0b1fd3ea",
   "metadata": {},
   "outputs": [
    {
     "data": {
      "text/plain": [
       "(2400, 1080, 3)"
      ]
     },
     "execution_count": 56,
     "metadata": {},
     "output_type": "execute_result"
    }
   ],
   "source": [
    "from matplotlib.image import imread\n",
    "\n",
    "img = imread('./photo.jpg')\n",
    "\n",
    "img.shape"
   ]
  },
  {
   "cell_type": "code",
   "execution_count": null,
   "id": "7e27abfe",
   "metadata": {},
   "outputs": [],
   "source": []
  }
 ],
 "metadata": {
  "kernelspec": {
   "display_name": "Python 3 (ipykernel)",
   "language": "python",
   "name": "python3"
  },
  "language_info": {
   "codemirror_mode": {
    "name": "ipython",
    "version": 3
   },
   "file_extension": ".py",
   "mimetype": "text/x-python",
   "name": "python",
   "nbconvert_exporter": "python",
   "pygments_lexer": "ipython3",
   "version": "3.11.4"
  }
 },
 "nbformat": 4,
 "nbformat_minor": 5
}
